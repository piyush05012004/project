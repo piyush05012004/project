{
  "nbformat": 4,
  "nbformat_minor": 0,
  "metadata": {
    "colab": {
      "provenance": [],
      "gpuType": "T4",
      "authorship_tag": "ABX9TyPuLDxzJM8S1z3MYIhbYzrT",
      "include_colab_link": true
    },
    "kernelspec": {
      "name": "python3",
      "display_name": "Python 3"
    },
    "language_info": {
      "name": "python"
    },
    "accelerator": "GPU"
  },
  "cells": [
    {
      "cell_type": "markdown",
      "metadata": {
        "id": "view-in-github",
        "colab_type": "text"
      },
      "source": [
        "<a href=\"https://colab.research.google.com/github/piyush05012004/project/blob/main/cat_vs_dog_image_classifier.ipynb\" target=\"_parent\"><img src=\"https://colab.research.google.com/assets/colab-badge.svg\" alt=\"Open In Colab\"/></a>"
      ]
    },
    {
      "cell_type": "code",
      "execution_count": null,
      "metadata": {
        "id": "O-wxz0cG_MN1"
      },
      "outputs": [],
      "source": [
        "!mkdir -p ~/.kaggle\n",
        "!cp kaggle.json ~/.kaggle/"
      ]
    },
    {
      "cell_type": "code",
      "source": [
        "!kaggle datasets download -d salader/dogs-vs-cats"
      ],
      "metadata": {
        "colab": {
          "base_uri": "https://localhost:8080/"
        },
        "id": "ZwNK3ZuPCDm2",
        "outputId": "b05a1b3b-1b5e-42d0-a4f0-5b75ca405321"
      },
      "execution_count": null,
      "outputs": [
        {
          "output_type": "stream",
          "name": "stdout",
          "text": [
            "Warning: Your Kaggle API key is readable by other users on this system! To fix this, you can run 'chmod 600 /root/.kaggle/kaggle.json'\n",
            "Downloading dogs-vs-cats.zip to /content\n",
            "100% 1.06G/1.06G [00:44<00:00, 26.5MB/s]\n",
            "100% 1.06G/1.06G [00:44<00:00, 25.6MB/s]\n"
          ]
        }
      ]
    },
    {
      "cell_type": "code",
      "source": [
        "import zipfile\n",
        "zip_ref=zipfile.ZipFile('/content/dogs-vs-cats.zip','r' )\n",
        "zip_ref.extractall('/content')\n",
        "zip_ref.close()"
      ],
      "metadata": {
        "id": "UqQ-XsB-Dknq"
      },
      "execution_count": null,
      "outputs": []
    },
    {
      "cell_type": "code",
      "source": [
        "import numpy as np\n",
        "import matplotlib.pyplot as plt\n",
        "import tensorflow as tf\n",
        "from tensorflow.keras import layers, models\n",
        "from tensorflow.keras.preprocessing.image import ImageDataGenerator"
      ],
      "metadata": {
        "id": "wVwWnfntEvgi"
      },
      "execution_count": null,
      "outputs": []
    },
    {
      "cell_type": "code",
      "source": [
        "train_datagen = ImageDataGenerator(rescale=1./255 , shear_range=0.2, zoom_range= 0.2, horizontal_flip = True)\n",
        "training_set = train_datagen.flow_from_directory(\n",
        "    '/content/train',\n",
        "    target_size=(150,150),\n",
        "    batch_size=32,\n",
        "    class_mode='binary'\n",
        ")\n",
        "\n",
        "test_datagen = ImageDataGenerator(rescale=1./255)\n",
        "test_set = test_datagen.flow_from_directory(\n",
        "    '/content/test',\n",
        "    target_size=(150,150),\n",
        "    batch_size=32,\n",
        "    class_mode='binary'\n",
        ")\n",
        "\n"
      ],
      "metadata": {
        "colab": {
          "base_uri": "https://localhost:8080/"
        },
        "id": "EL8cWOE0X-BC",
        "outputId": "90b13a85-5f73-4f12-b0e6-b50a42ede736"
      },
      "execution_count": null,
      "outputs": [
        {
          "output_type": "stream",
          "name": "stdout",
          "text": [
            "Found 20000 images belonging to 2 classes.\n",
            "Found 5000 images belonging to 2 classes.\n"
          ]
        }
      ]
    },
    {
      "cell_type": "code",
      "source": [
        "cnn = tf.keras.models.Sequential()\n",
        "cnn.add(tf.keras.layers.Conv2D(filters=32,kernel_size=3,activation='relu',input_shape=[150,150,3]))\n",
        "cnn.add(tf.keras.layers.MaxPool2D(pool_size=2,strides=2))\n",
        "cnn.add(tf.keras.layers.Conv2D(filters=32,kernel_size=3,activation='relu'))\n",
        "cnn.add(tf.keras.layers.MaxPool2D(pool_size=2,strides=2))\n",
        "cnn.add(tf.keras.layers.Flatten())\n",
        "cnn.add(tf.keras.layers.Dense(units=128,activation='relu'))\n",
        "cnn.add(tf.keras.layers.Dense(units=1,activation='sigmoid'))"
      ],
      "metadata": {
        "id": "3WLcz1pgJVrJ"
      },
      "execution_count": null,
      "outputs": []
    },
    {
      "cell_type": "code",
      "source": [
        "cnn.compile(optimizer='adam',loss='binary_crossentropy', metrics=['accuracy'])\n",
        "cnn.fit(x= training_set,validation_data=test_set,epochs=25)"
      ],
      "metadata": {
        "colab": {
          "base_uri": "https://localhost:8080/"
        },
        "id": "-3or3JdeMUB5",
        "outputId": "f7d67582-1259-4e59-8267-c6ac4a440d8e"
      },
      "execution_count": null,
      "outputs": [
        {
          "output_type": "stream",
          "name": "stdout",
          "text": [
            "Epoch 1/25\n",
            "625/625 [==============================] - 159s 246ms/step - loss: 0.6228 - accuracy: 0.6488 - val_loss: 0.5289 - val_accuracy: 0.7476\n",
            "Epoch 2/25\n",
            "625/625 [==============================] - 156s 250ms/step - loss: 0.5365 - accuracy: 0.7242 - val_loss: 0.4742 - val_accuracy: 0.7680\n",
            "Epoch 3/25\n",
            "625/625 [==============================] - 152s 243ms/step - loss: 0.4902 - accuracy: 0.7609 - val_loss: 0.4630 - val_accuracy: 0.7766\n",
            "Epoch 4/25\n",
            "625/625 [==============================] - 150s 239ms/step - loss: 0.4571 - accuracy: 0.7835 - val_loss: 0.4389 - val_accuracy: 0.7972\n",
            "Epoch 5/25\n",
            "625/625 [==============================] - 148s 237ms/step - loss: 0.4359 - accuracy: 0.7958 - val_loss: 0.4144 - val_accuracy: 0.8082\n",
            "Epoch 6/25\n",
            "625/625 [==============================] - 148s 236ms/step - loss: 0.4218 - accuracy: 0.8022 - val_loss: 0.4218 - val_accuracy: 0.8098\n",
            "Epoch 7/25\n",
            "625/625 [==============================] - 147s 236ms/step - loss: 0.4053 - accuracy: 0.8148 - val_loss: 0.4000 - val_accuracy: 0.8178\n",
            "Epoch 8/25\n",
            "625/625 [==============================] - 145s 232ms/step - loss: 0.3891 - accuracy: 0.8216 - val_loss: 0.4404 - val_accuracy: 0.7868\n",
            "Epoch 9/25\n",
            "625/625 [==============================] - 146s 233ms/step - loss: 0.3821 - accuracy: 0.8285 - val_loss: 0.3877 - val_accuracy: 0.8280\n",
            "Epoch 10/25\n",
            "625/625 [==============================] - 148s 236ms/step - loss: 0.3744 - accuracy: 0.8321 - val_loss: 0.3768 - val_accuracy: 0.8370\n",
            "Epoch 11/25\n",
            "625/625 [==============================] - 148s 237ms/step - loss: 0.3584 - accuracy: 0.8413 - val_loss: 0.4054 - val_accuracy: 0.8182\n",
            "Epoch 12/25\n",
            "625/625 [==============================] - 146s 233ms/step - loss: 0.3482 - accuracy: 0.8468 - val_loss: 0.4044 - val_accuracy: 0.8252\n",
            "Epoch 13/25\n",
            "625/625 [==============================] - 147s 236ms/step - loss: 0.3422 - accuracy: 0.8474 - val_loss: 0.3654 - val_accuracy: 0.8374\n",
            "Epoch 14/25\n",
            "625/625 [==============================] - 146s 233ms/step - loss: 0.3356 - accuracy: 0.8514 - val_loss: 0.3626 - val_accuracy: 0.8380\n",
            "Epoch 15/25\n",
            "625/625 [==============================] - 147s 236ms/step - loss: 0.3278 - accuracy: 0.8565 - val_loss: 0.3913 - val_accuracy: 0.8270\n",
            "Epoch 16/25\n",
            "625/625 [==============================] - 144s 231ms/step - loss: 0.3141 - accuracy: 0.8646 - val_loss: 0.3674 - val_accuracy: 0.8392\n",
            "Epoch 17/25\n",
            "625/625 [==============================] - 146s 234ms/step - loss: 0.3120 - accuracy: 0.8637 - val_loss: 0.3681 - val_accuracy: 0.8386\n",
            "Epoch 18/25\n",
            "625/625 [==============================] - 145s 232ms/step - loss: 0.3045 - accuracy: 0.8691 - val_loss: 0.3818 - val_accuracy: 0.8318\n",
            "Epoch 19/25\n",
            "625/625 [==============================] - 145s 232ms/step - loss: 0.2988 - accuracy: 0.8709 - val_loss: 0.3746 - val_accuracy: 0.8370\n",
            "Epoch 20/25\n",
            "625/625 [==============================] - 145s 233ms/step - loss: 0.2967 - accuracy: 0.8691 - val_loss: 0.3707 - val_accuracy: 0.8434\n",
            "Epoch 21/25\n",
            "625/625 [==============================] - 148s 237ms/step - loss: 0.2869 - accuracy: 0.8783 - val_loss: 0.3726 - val_accuracy: 0.8374\n",
            "Epoch 22/25\n",
            "625/625 [==============================] - 144s 230ms/step - loss: 0.2804 - accuracy: 0.8787 - val_loss: 0.4167 - val_accuracy: 0.8248\n",
            "Epoch 23/25\n",
            "625/625 [==============================] - 144s 231ms/step - loss: 0.2772 - accuracy: 0.8780 - val_loss: 0.3805 - val_accuracy: 0.8376\n",
            "Epoch 24/25\n",
            "625/625 [==============================] - 146s 234ms/step - loss: 0.2726 - accuracy: 0.8837 - val_loss: 0.4208 - val_accuracy: 0.8296\n",
            "Epoch 25/25\n",
            "625/625 [==============================] - 145s 232ms/step - loss: 0.2606 - accuracy: 0.8894 - val_loss: 0.4064 - val_accuracy: 0.8306\n"
          ]
        },
        {
          "output_type": "execute_result",
          "data": {
            "text/plain": [
              "<keras.src.callbacks.History at 0x7f52f65a2200>"
            ]
          },
          "metadata": {},
          "execution_count": 8
        }
      ]
    },
    {
      "cell_type": "code",
      "source": [
        "from tensorflow.keras.preprocessing import image\n",
        "test_image=image.load_img(\n",
        "    '/content/cat2.jpg',\n",
        "    target_size = (150,150)\n",
        ")\n",
        "test_image=image.img_to_array(test_image)\n",
        "test_image = np.expand_dims(test_image,axis=0)\n",
        "result = cnn.predict(test_image)\n",
        "training_set.class_indices\n",
        "if result[0][0] == 1:\n",
        "  prediction = 'dog'\n",
        "else:\n",
        "    prediction = 'cat'\n",
        "print(prediction)"
      ],
      "metadata": {
        "colab": {
          "base_uri": "https://localhost:8080/"
        },
        "id": "OzDLnOTlaZ3m",
        "outputId": "552f83cd-d3bc-47f8-e9b1-440ad4d11171"
      },
      "execution_count": null,
      "outputs": [
        {
          "output_type": "stream",
          "name": "stdout",
          "text": [
            "1/1 [==============================] - 0s 19ms/step\n",
            "cat\n"
          ]
        }
      ]
    }
  ]
}